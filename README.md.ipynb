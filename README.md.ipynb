{
 "cells": [
  {
   "cell_type": "markdown",
   "metadata": {},
   "source": [
    "## Now more than ever, Toronto's Neighbourhood Restaurants need us.\n",
    "\n",
    "\n",
    "Recommending places to eat cannot be done with numbers.\n",
    "You cannot quantify ambiance/genuinity/nostalgia/authenticity.\n",
    "You cannot give a number to describe why a certain meal made you feel at home.\n",
    "There is no metric to explain where or why our cravings originated.\n",
    "\n",
    "\n",
    "All we have are our words! Also, Natural Language Processing algorithms.\n",
    "\n",
    "\n",
    "### NLP\n",
    "\n",
    "Computers understand language better than we do.\n",
    "Better yet, computers can break down our words and sentences into numeric vectors.\n",
    "They can then be assigned scores based on sentiment, frequency, and relevance.\n",
    "Simply put, number ratings are not an appropriate measure of a restaurant’s value.\n",
    "Hungry Cook by Karim is a great example.\n",
    "\n",
    "\n",
    "With more reviews, more descriptive, reviews. Algorithms can better group restaurants that apart from style of cuisine or geographic location.\n",
    "Ultimately: the goal is and should be to point is in the direction of the place that most resembles how we feel, what mood we’re in, or best case scenario; \n",
    "somewhere we didn’t know we wanted.\n",
    "\n",
    "### Next Steps\n",
    "\n",
    "More data, obviously.\n",
    "Adding major cities to the database, i.e. Vancouver, Montreal, Ottawa.\n",
    "More reviews for each restaurant.\n",
    "Hindsight: a platform for users to enter in meaningful reviews.\n",
    "i.e. prompt them to describe what they’re craving and why.\n",
    "Potential to generate data on and shed light on human emotion.  \n",
    "And, of course, more FOOD REFERENCES IN RAP SONGS!\n",
    "\n",
    "## Let's Change the Way We Think About Food!\n",
    "\n",
    "Post COVID, will be a chance for all of us to change the way we think about who we let represent our cities cuisine.\n",
    "Our favourites have already been shutting down one by one. Who knows how many more will go before we can dine indoors again?\n",
    "It is on us to protect the family diners, the independent bakeries, the locally-sourced snack bars.\n",
    "If not our seemingly endless options of different cuisine in the city, how much better can Toronto represent it’s diversity?\n"
   ]
  },
  {
   "cell_type": "code",
   "execution_count": null,
   "metadata": {},
   "outputs": [],
   "source": []
  }
 ],
 "metadata": {
  "kernelspec": {
   "display_name": "Python 3",
   "language": "python",
   "name": "python3"
  },
  "language_info": {
   "codemirror_mode": {
    "name": "ipython",
    "version": 3
   },
   "file_extension": ".py",
   "mimetype": "text/x-python",
   "name": "python",
   "nbconvert_exporter": "python",
   "pygments_lexer": "ipython3",
   "version": "3.8.5"
  }
 },
 "nbformat": 4,
 "nbformat_minor": 4
}
